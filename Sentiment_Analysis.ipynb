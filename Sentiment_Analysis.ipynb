{
  "cells": [
    {
      "cell_type": "code",
      "execution_count": 1,
      "id": "e2756921-e544-4eda-9dae-c359d8c3aad0",
      "metadata": {
        "id": "e2756921-e544-4eda-9dae-c359d8c3aad0"
      },
      "outputs": [],
      "source": [
        "#!pip install streamlit"
      ]
    },
    {
      "cell_type": "code",
      "execution_count": 2,
      "id": "fa6409ca-adcc-4186-8f1e-b2bdd5a74324",
      "metadata": {
        "id": "fa6409ca-adcc-4186-8f1e-b2bdd5a74324"
      },
      "outputs": [],
      "source": [
        "import numpy as np\n",
        "import pandas as pd\n",
        "import tensorflow as tf\n",
        "from tensorflow.keras.preprocessing.text import Tokenizer\n",
        "from tensorflow.keras.preprocessing.sequence import pad_sequences\n",
        "from tensorflow.keras.models import Sequential\n",
        "from tensorflow.keras.layers import Embedding, LSTM, Dense, Dropout\n",
        "from sklearn.model_selection import train_test_split\n",
        "from sklearn.metrics import classification_report, confusion_matrix\n",
        "import nltk\n",
        "from nltk.corpus import stopwords\n",
        "from nltk.stem import WordNetLemmatizer, PorterStemmer\n",
        "import re\n",
        "import pickle"
      ]
    },
    {
      "cell_type": "code",
      "execution_count": 3,
      "id": "420e846b-7408-482e-b306-85a3ddf254f1",
      "metadata": {
        "id": "420e846b-7408-482e-b306-85a3ddf254f1"
      },
      "outputs": [],
      "source": [
        "def load_data(filepath):\n",
        "    columns = ['target', 'id', 'date', 'flag', 'user', 'text']\n",
        "    data = pd.read_csv(filepath, encoding = \"latin-1\", names=columns)\n",
        "    return data"
      ]
    },
    {
      "cell_type": "code",
      "execution_count": 4,
      "id": "3316c6c6-f057-47fe-a732-20a0b8a92e68",
      "metadata": {
        "colab": {
          "base_uri": "https://localhost:8080/"
        },
        "id": "3316c6c6-f057-47fe-a732-20a0b8a92e68",
        "outputId": "b4b664ae-4dfd-4710-d58e-347ea41defcc"
      },
      "outputs": [
        {
          "output_type": "stream",
          "name": "stderr",
          "text": [
            "<ipython-input-3-0b1053089322>:3: DtypeWarning: Columns (0,1) have mixed types. Specify dtype option on import or set low_memory=False.\n",
            "  data = pd.read_csv(filepath, encoding = \"latin-1\", names=columns)\n"
          ]
        }
      ],
      "source": [
        "df = load_data(\"/content/training.1600000.processed.noemoticon.csv\")"
      ]
    },
    {
      "cell_type": "code",
      "execution_count": 5,
      "id": "b00ad4c7-6503-4d4e-8c77-f1b82e350a15",
      "metadata": {
        "colab": {
          "base_uri": "https://localhost:8080/",
          "height": 423
        },
        "id": "b00ad4c7-6503-4d4e-8c77-f1b82e350a15",
        "outputId": "2388fff4-9767-4d0f-d4e0-cfeac21e4d07"
      },
      "outputs": [
        {
          "output_type": "execute_result",
          "data": {
            "text/plain": [
              "                     target               id                          date  \\\n",
              "0        polarity of tweet   id of the tweet             date of the tweet   \n",
              "1                         0       1467810672  Mon Apr 06 22:19:49 PDT 2009   \n",
              "2                         0       1467810917  Mon Apr 06 22:19:53 PDT 2009   \n",
              "3                         0       1467811184  Mon Apr 06 22:19:57 PDT 2009   \n",
              "4                         0       1467811193  Mon Apr 06 22:19:57 PDT 2009   \n",
              "...                     ...              ...                           ...   \n",
              "1048568                   4       1960186342  Fri May 29 07:33:44 PDT 2009   \n",
              "1048569                   4       1960186409  Fri May 29 07:33:43 PDT 2009   \n",
              "1048570                   4       1960186429  Fri May 29 07:33:44 PDT 2009   \n",
              "1048571                   4       1960186445  Fri May 29 07:33:44 PDT 2009   \n",
              "1048572                   4       1960186607  Fri May 29 07:33:45 PDT 2009   \n",
              "\n",
              "             flag             user  \\\n",
              "0           query             user   \n",
              "1        NO_QUERY    scotthamilton   \n",
              "2        NO_QUERY         mattycus   \n",
              "3        NO_QUERY          ElleCTF   \n",
              "4        NO_QUERY           Karoli   \n",
              "...           ...              ...   \n",
              "1048568  NO_QUERY  Madelinedugganx   \n",
              "1048569  NO_QUERY     OffRoad_Dude   \n",
              "1048570  NO_QUERY         Falchion   \n",
              "1048571  NO_QUERY   jonasobsessedx   \n",
              "1048572  NO_QUERY        sugababez   \n",
              "\n",
              "                                                      text  \n",
              "0                                       text of the tweet   \n",
              "1        is upset that he can't update his Facebook by ...  \n",
              "2        @Kenichan I dived many times for the ball. Man...  \n",
              "3          my whole body feels itchy and like its on fire   \n",
              "4        @nationwideclass no, it's not behaving at all....  \n",
              "...                                                    ...  \n",
              "1048568           My GrandMa is making Dinenr with my Mum   \n",
              "1048569  Mid-morning snack time... A bowl of cheese noo...  \n",
              "1048570  @ShaDeLa same here  say it like from the Termi...  \n",
              "1048571             @DestinyHope92 im great thaanks  wbuu?  \n",
              "1048572               cant wait til her date this weekend   \n",
              "\n",
              "[1048573 rows x 6 columns]"
            ],
            "text/html": [
              "\n",
              "  <div id=\"df-a1bf1107-1680-46e7-8620-0e8a99dd2bbe\" class=\"colab-df-container\">\n",
              "    <div>\n",
              "<style scoped>\n",
              "    .dataframe tbody tr th:only-of-type {\n",
              "        vertical-align: middle;\n",
              "    }\n",
              "\n",
              "    .dataframe tbody tr th {\n",
              "        vertical-align: top;\n",
              "    }\n",
              "\n",
              "    .dataframe thead th {\n",
              "        text-align: right;\n",
              "    }\n",
              "</style>\n",
              "<table border=\"1\" class=\"dataframe\">\n",
              "  <thead>\n",
              "    <tr style=\"text-align: right;\">\n",
              "      <th></th>\n",
              "      <th>target</th>\n",
              "      <th>id</th>\n",
              "      <th>date</th>\n",
              "      <th>flag</th>\n",
              "      <th>user</th>\n",
              "      <th>text</th>\n",
              "    </tr>\n",
              "  </thead>\n",
              "  <tbody>\n",
              "    <tr>\n",
              "      <th>0</th>\n",
              "      <td>polarity of tweet</td>\n",
              "      <td>id of the tweet</td>\n",
              "      <td>date of the tweet</td>\n",
              "      <td>query</td>\n",
              "      <td>user</td>\n",
              "      <td>text of the tweet</td>\n",
              "    </tr>\n",
              "    <tr>\n",
              "      <th>1</th>\n",
              "      <td>0</td>\n",
              "      <td>1467810672</td>\n",
              "      <td>Mon Apr 06 22:19:49 PDT 2009</td>\n",
              "      <td>NO_QUERY</td>\n",
              "      <td>scotthamilton</td>\n",
              "      <td>is upset that he can't update his Facebook by ...</td>\n",
              "    </tr>\n",
              "    <tr>\n",
              "      <th>2</th>\n",
              "      <td>0</td>\n",
              "      <td>1467810917</td>\n",
              "      <td>Mon Apr 06 22:19:53 PDT 2009</td>\n",
              "      <td>NO_QUERY</td>\n",
              "      <td>mattycus</td>\n",
              "      <td>@Kenichan I dived many times for the ball. Man...</td>\n",
              "    </tr>\n",
              "    <tr>\n",
              "      <th>3</th>\n",
              "      <td>0</td>\n",
              "      <td>1467811184</td>\n",
              "      <td>Mon Apr 06 22:19:57 PDT 2009</td>\n",
              "      <td>NO_QUERY</td>\n",
              "      <td>ElleCTF</td>\n",
              "      <td>my whole body feels itchy and like its on fire</td>\n",
              "    </tr>\n",
              "    <tr>\n",
              "      <th>4</th>\n",
              "      <td>0</td>\n",
              "      <td>1467811193</td>\n",
              "      <td>Mon Apr 06 22:19:57 PDT 2009</td>\n",
              "      <td>NO_QUERY</td>\n",
              "      <td>Karoli</td>\n",
              "      <td>@nationwideclass no, it's not behaving at all....</td>\n",
              "    </tr>\n",
              "    <tr>\n",
              "      <th>...</th>\n",
              "      <td>...</td>\n",
              "      <td>...</td>\n",
              "      <td>...</td>\n",
              "      <td>...</td>\n",
              "      <td>...</td>\n",
              "      <td>...</td>\n",
              "    </tr>\n",
              "    <tr>\n",
              "      <th>1048568</th>\n",
              "      <td>4</td>\n",
              "      <td>1960186342</td>\n",
              "      <td>Fri May 29 07:33:44 PDT 2009</td>\n",
              "      <td>NO_QUERY</td>\n",
              "      <td>Madelinedugganx</td>\n",
              "      <td>My GrandMa is making Dinenr with my Mum</td>\n",
              "    </tr>\n",
              "    <tr>\n",
              "      <th>1048569</th>\n",
              "      <td>4</td>\n",
              "      <td>1960186409</td>\n",
              "      <td>Fri May 29 07:33:43 PDT 2009</td>\n",
              "      <td>NO_QUERY</td>\n",
              "      <td>OffRoad_Dude</td>\n",
              "      <td>Mid-morning snack time... A bowl of cheese noo...</td>\n",
              "    </tr>\n",
              "    <tr>\n",
              "      <th>1048570</th>\n",
              "      <td>4</td>\n",
              "      <td>1960186429</td>\n",
              "      <td>Fri May 29 07:33:44 PDT 2009</td>\n",
              "      <td>NO_QUERY</td>\n",
              "      <td>Falchion</td>\n",
              "      <td>@ShaDeLa same here  say it like from the Termi...</td>\n",
              "    </tr>\n",
              "    <tr>\n",
              "      <th>1048571</th>\n",
              "      <td>4</td>\n",
              "      <td>1960186445</td>\n",
              "      <td>Fri May 29 07:33:44 PDT 2009</td>\n",
              "      <td>NO_QUERY</td>\n",
              "      <td>jonasobsessedx</td>\n",
              "      <td>@DestinyHope92 im great thaanks  wbuu?</td>\n",
              "    </tr>\n",
              "    <tr>\n",
              "      <th>1048572</th>\n",
              "      <td>4</td>\n",
              "      <td>1960186607</td>\n",
              "      <td>Fri May 29 07:33:45 PDT 2009</td>\n",
              "      <td>NO_QUERY</td>\n",
              "      <td>sugababez</td>\n",
              "      <td>cant wait til her date this weekend</td>\n",
              "    </tr>\n",
              "  </tbody>\n",
              "</table>\n",
              "<p>1048573 rows × 6 columns</p>\n",
              "</div>\n",
              "    <div class=\"colab-df-buttons\">\n",
              "\n",
              "  <div class=\"colab-df-container\">\n",
              "    <button class=\"colab-df-convert\" onclick=\"convertToInteractive('df-a1bf1107-1680-46e7-8620-0e8a99dd2bbe')\"\n",
              "            title=\"Convert this dataframe to an interactive table.\"\n",
              "            style=\"display:none;\">\n",
              "\n",
              "  <svg xmlns=\"http://www.w3.org/2000/svg\" height=\"24px\" viewBox=\"0 -960 960 960\">\n",
              "    <path d=\"M120-120v-720h720v720H120Zm60-500h600v-160H180v160Zm220 220h160v-160H400v160Zm0 220h160v-160H400v160ZM180-400h160v-160H180v160Zm440 0h160v-160H620v160ZM180-180h160v-160H180v160Zm440 0h160v-160H620v160Z\"/>\n",
              "  </svg>\n",
              "    </button>\n",
              "\n",
              "  <style>\n",
              "    .colab-df-container {\n",
              "      display:flex;\n",
              "      gap: 12px;\n",
              "    }\n",
              "\n",
              "    .colab-df-convert {\n",
              "      background-color: #E8F0FE;\n",
              "      border: none;\n",
              "      border-radius: 50%;\n",
              "      cursor: pointer;\n",
              "      display: none;\n",
              "      fill: #1967D2;\n",
              "      height: 32px;\n",
              "      padding: 0 0 0 0;\n",
              "      width: 32px;\n",
              "    }\n",
              "\n",
              "    .colab-df-convert:hover {\n",
              "      background-color: #E2EBFA;\n",
              "      box-shadow: 0px 1px 2px rgba(60, 64, 67, 0.3), 0px 1px 3px 1px rgba(60, 64, 67, 0.15);\n",
              "      fill: #174EA6;\n",
              "    }\n",
              "\n",
              "    .colab-df-buttons div {\n",
              "      margin-bottom: 4px;\n",
              "    }\n",
              "\n",
              "    [theme=dark] .colab-df-convert {\n",
              "      background-color: #3B4455;\n",
              "      fill: #D2E3FC;\n",
              "    }\n",
              "\n",
              "    [theme=dark] .colab-df-convert:hover {\n",
              "      background-color: #434B5C;\n",
              "      box-shadow: 0px 1px 3px 1px rgba(0, 0, 0, 0.15);\n",
              "      filter: drop-shadow(0px 1px 2px rgba(0, 0, 0, 0.3));\n",
              "      fill: #FFFFFF;\n",
              "    }\n",
              "  </style>\n",
              "\n",
              "    <script>\n",
              "      const buttonEl =\n",
              "        document.querySelector('#df-a1bf1107-1680-46e7-8620-0e8a99dd2bbe button.colab-df-convert');\n",
              "      buttonEl.style.display =\n",
              "        google.colab.kernel.accessAllowed ? 'block' : 'none';\n",
              "\n",
              "      async function convertToInteractive(key) {\n",
              "        const element = document.querySelector('#df-a1bf1107-1680-46e7-8620-0e8a99dd2bbe');\n",
              "        const dataTable =\n",
              "          await google.colab.kernel.invokeFunction('convertToInteractive',\n",
              "                                                    [key], {});\n",
              "        if (!dataTable) return;\n",
              "\n",
              "        const docLinkHtml = 'Like what you see? Visit the ' +\n",
              "          '<a target=\"_blank\" href=https://colab.research.google.com/notebooks/data_table.ipynb>data table notebook</a>'\n",
              "          + ' to learn more about interactive tables.';\n",
              "        element.innerHTML = '';\n",
              "        dataTable['output_type'] = 'display_data';\n",
              "        await google.colab.output.renderOutput(dataTable, element);\n",
              "        const docLink = document.createElement('div');\n",
              "        docLink.innerHTML = docLinkHtml;\n",
              "        element.appendChild(docLink);\n",
              "      }\n",
              "    </script>\n",
              "  </div>\n",
              "\n",
              "\n",
              "<div id=\"df-a1db53a0-af39-43d8-ac0e-202c93bb3b11\">\n",
              "  <button class=\"colab-df-quickchart\" onclick=\"quickchart('df-a1db53a0-af39-43d8-ac0e-202c93bb3b11')\"\n",
              "            title=\"Suggest charts\"\n",
              "            style=\"display:none;\">\n",
              "\n",
              "<svg xmlns=\"http://www.w3.org/2000/svg\" height=\"24px\"viewBox=\"0 0 24 24\"\n",
              "     width=\"24px\">\n",
              "    <g>\n",
              "        <path d=\"M19 3H5c-1.1 0-2 .9-2 2v14c0 1.1.9 2 2 2h14c1.1 0 2-.9 2-2V5c0-1.1-.9-2-2-2zM9 17H7v-7h2v7zm4 0h-2V7h2v10zm4 0h-2v-4h2v4z\"/>\n",
              "    </g>\n",
              "</svg>\n",
              "  </button>\n",
              "\n",
              "<style>\n",
              "  .colab-df-quickchart {\n",
              "      --bg-color: #E8F0FE;\n",
              "      --fill-color: #1967D2;\n",
              "      --hover-bg-color: #E2EBFA;\n",
              "      --hover-fill-color: #174EA6;\n",
              "      --disabled-fill-color: #AAA;\n",
              "      --disabled-bg-color: #DDD;\n",
              "  }\n",
              "\n",
              "  [theme=dark] .colab-df-quickchart {\n",
              "      --bg-color: #3B4455;\n",
              "      --fill-color: #D2E3FC;\n",
              "      --hover-bg-color: #434B5C;\n",
              "      --hover-fill-color: #FFFFFF;\n",
              "      --disabled-bg-color: #3B4455;\n",
              "      --disabled-fill-color: #666;\n",
              "  }\n",
              "\n",
              "  .colab-df-quickchart {\n",
              "    background-color: var(--bg-color);\n",
              "    border: none;\n",
              "    border-radius: 50%;\n",
              "    cursor: pointer;\n",
              "    display: none;\n",
              "    fill: var(--fill-color);\n",
              "    height: 32px;\n",
              "    padding: 0;\n",
              "    width: 32px;\n",
              "  }\n",
              "\n",
              "  .colab-df-quickchart:hover {\n",
              "    background-color: var(--hover-bg-color);\n",
              "    box-shadow: 0 1px 2px rgba(60, 64, 67, 0.3), 0 1px 3px 1px rgba(60, 64, 67, 0.15);\n",
              "    fill: var(--button-hover-fill-color);\n",
              "  }\n",
              "\n",
              "  .colab-df-quickchart-complete:disabled,\n",
              "  .colab-df-quickchart-complete:disabled:hover {\n",
              "    background-color: var(--disabled-bg-color);\n",
              "    fill: var(--disabled-fill-color);\n",
              "    box-shadow: none;\n",
              "  }\n",
              "\n",
              "  .colab-df-spinner {\n",
              "    border: 2px solid var(--fill-color);\n",
              "    border-color: transparent;\n",
              "    border-bottom-color: var(--fill-color);\n",
              "    animation:\n",
              "      spin 1s steps(1) infinite;\n",
              "  }\n",
              "\n",
              "  @keyframes spin {\n",
              "    0% {\n",
              "      border-color: transparent;\n",
              "      border-bottom-color: var(--fill-color);\n",
              "      border-left-color: var(--fill-color);\n",
              "    }\n",
              "    20% {\n",
              "      border-color: transparent;\n",
              "      border-left-color: var(--fill-color);\n",
              "      border-top-color: var(--fill-color);\n",
              "    }\n",
              "    30% {\n",
              "      border-color: transparent;\n",
              "      border-left-color: var(--fill-color);\n",
              "      border-top-color: var(--fill-color);\n",
              "      border-right-color: var(--fill-color);\n",
              "    }\n",
              "    40% {\n",
              "      border-color: transparent;\n",
              "      border-right-color: var(--fill-color);\n",
              "      border-top-color: var(--fill-color);\n",
              "    }\n",
              "    60% {\n",
              "      border-color: transparent;\n",
              "      border-right-color: var(--fill-color);\n",
              "    }\n",
              "    80% {\n",
              "      border-color: transparent;\n",
              "      border-right-color: var(--fill-color);\n",
              "      border-bottom-color: var(--fill-color);\n",
              "    }\n",
              "    90% {\n",
              "      border-color: transparent;\n",
              "      border-bottom-color: var(--fill-color);\n",
              "    }\n",
              "  }\n",
              "</style>\n",
              "\n",
              "  <script>\n",
              "    async function quickchart(key) {\n",
              "      const quickchartButtonEl =\n",
              "        document.querySelector('#' + key + ' button');\n",
              "      quickchartButtonEl.disabled = true;  // To prevent multiple clicks.\n",
              "      quickchartButtonEl.classList.add('colab-df-spinner');\n",
              "      try {\n",
              "        const charts = await google.colab.kernel.invokeFunction(\n",
              "            'suggestCharts', [key], {});\n",
              "      } catch (error) {\n",
              "        console.error('Error during call to suggestCharts:', error);\n",
              "      }\n",
              "      quickchartButtonEl.classList.remove('colab-df-spinner');\n",
              "      quickchartButtonEl.classList.add('colab-df-quickchart-complete');\n",
              "    }\n",
              "    (() => {\n",
              "      let quickchartButtonEl =\n",
              "        document.querySelector('#df-a1db53a0-af39-43d8-ac0e-202c93bb3b11 button');\n",
              "      quickchartButtonEl.style.display =\n",
              "        google.colab.kernel.accessAllowed ? 'block' : 'none';\n",
              "    })();\n",
              "  </script>\n",
              "</div>\n",
              "\n",
              "  <div id=\"id_fe3042cb-5d5e-4856-b7cc-4131de04e4c2\">\n",
              "    <style>\n",
              "      .colab-df-generate {\n",
              "        background-color: #E8F0FE;\n",
              "        border: none;\n",
              "        border-radius: 50%;\n",
              "        cursor: pointer;\n",
              "        display: none;\n",
              "        fill: #1967D2;\n",
              "        height: 32px;\n",
              "        padding: 0 0 0 0;\n",
              "        width: 32px;\n",
              "      }\n",
              "\n",
              "      .colab-df-generate:hover {\n",
              "        background-color: #E2EBFA;\n",
              "        box-shadow: 0px 1px 2px rgba(60, 64, 67, 0.3), 0px 1px 3px 1px rgba(60, 64, 67, 0.15);\n",
              "        fill: #174EA6;\n",
              "      }\n",
              "\n",
              "      [theme=dark] .colab-df-generate {\n",
              "        background-color: #3B4455;\n",
              "        fill: #D2E3FC;\n",
              "      }\n",
              "\n",
              "      [theme=dark] .colab-df-generate:hover {\n",
              "        background-color: #434B5C;\n",
              "        box-shadow: 0px 1px 3px 1px rgba(0, 0, 0, 0.15);\n",
              "        filter: drop-shadow(0px 1px 2px rgba(0, 0, 0, 0.3));\n",
              "        fill: #FFFFFF;\n",
              "      }\n",
              "    </style>\n",
              "    <button class=\"colab-df-generate\" onclick=\"generateWithVariable('df')\"\n",
              "            title=\"Generate code using this dataframe.\"\n",
              "            style=\"display:none;\">\n",
              "\n",
              "  <svg xmlns=\"http://www.w3.org/2000/svg\" height=\"24px\"viewBox=\"0 0 24 24\"\n",
              "       width=\"24px\">\n",
              "    <path d=\"M7,19H8.4L18.45,9,17,7.55,7,17.6ZM5,21V16.75L18.45,3.32a2,2,0,0,1,2.83,0l1.4,1.43a1.91,1.91,0,0,1,.58,1.4,1.91,1.91,0,0,1-.58,1.4L9.25,21ZM18.45,9,17,7.55Zm-12,3A5.31,5.31,0,0,0,4.9,8.1,5.31,5.31,0,0,0,1,6.5,5.31,5.31,0,0,0,4.9,4.9,5.31,5.31,0,0,0,6.5,1,5.31,5.31,0,0,0,8.1,4.9,5.31,5.31,0,0,0,12,6.5,5.46,5.46,0,0,0,6.5,12Z\"/>\n",
              "  </svg>\n",
              "    </button>\n",
              "    <script>\n",
              "      (() => {\n",
              "      const buttonEl =\n",
              "        document.querySelector('#id_fe3042cb-5d5e-4856-b7cc-4131de04e4c2 button.colab-df-generate');\n",
              "      buttonEl.style.display =\n",
              "        google.colab.kernel.accessAllowed ? 'block' : 'none';\n",
              "\n",
              "      buttonEl.onclick = () => {\n",
              "        google.colab.notebook.generateWithVariable('df');\n",
              "      }\n",
              "      })();\n",
              "    </script>\n",
              "  </div>\n",
              "\n",
              "    </div>\n",
              "  </div>\n"
            ],
            "application/vnd.google.colaboratory.intrinsic+json": {
              "type": "dataframe",
              "variable_name": "df"
            }
          },
          "metadata": {},
          "execution_count": 5
        }
      ],
      "source": [
        "df"
      ]
    },
    {
      "cell_type": "code",
      "source": [
        "df.describe()"
      ],
      "metadata": {
        "colab": {
          "base_uri": "https://localhost:8080/",
          "height": 229
        },
        "id": "ukS2cfoYJZ8d",
        "outputId": "77caaba5-8c67-4d82-e888-5082e3e22d98"
      },
      "id": "ukS2cfoYJZ8d",
      "execution_count": 6,
      "outputs": [
        {
          "output_type": "stream",
          "name": "stderr",
          "text": [
            "/usr/local/lib/python3.10/dist-packages/google/colab/_dataframe_summarizer.py:88: FutureWarning: Parsed string \"Fri May 22 05:10:17 PDT 2009\" included an un-recognized timezone \"PDT\". Dropping unrecognized timezones is deprecated; in a future version this will raise. Instead pass the string without the timezone, then use .tz_localize to convert to a recognized timezone.\n",
            "  cast_date_col = pd.to_datetime(column, errors=\"coerce\")\n"
          ]
        },
        {
          "output_type": "execute_result",
          "data": {
            "text/plain": [
              "         target          id                          date      flag      user  \\\n",
              "count   1048573     1048573                       1048573   1048573   1048573   \n",
              "unique        4     1048462                        662451         2    511365   \n",
              "top           0  1957692870  Fri May 22 05:10:17 PDT 2009  NO_QUERY  lost_dog   \n",
              "freq     668925           2                            17   1048572       549   \n",
              "\n",
              "                             text  \n",
              "count                     1048573  \n",
              "unique                    1036133  \n",
              "top     isPlayer Has Died! Sorry   \n",
              "freq                          210  "
            ],
            "text/html": [
              "\n",
              "  <div id=\"df-40603fdb-a520-46bb-b921-0db7bc6306b4\" class=\"colab-df-container\">\n",
              "    <div>\n",
              "<style scoped>\n",
              "    .dataframe tbody tr th:only-of-type {\n",
              "        vertical-align: middle;\n",
              "    }\n",
              "\n",
              "    .dataframe tbody tr th {\n",
              "        vertical-align: top;\n",
              "    }\n",
              "\n",
              "    .dataframe thead th {\n",
              "        text-align: right;\n",
              "    }\n",
              "</style>\n",
              "<table border=\"1\" class=\"dataframe\">\n",
              "  <thead>\n",
              "    <tr style=\"text-align: right;\">\n",
              "      <th></th>\n",
              "      <th>target</th>\n",
              "      <th>id</th>\n",
              "      <th>date</th>\n",
              "      <th>flag</th>\n",
              "      <th>user</th>\n",
              "      <th>text</th>\n",
              "    </tr>\n",
              "  </thead>\n",
              "  <tbody>\n",
              "    <tr>\n",
              "      <th>count</th>\n",
              "      <td>1048573</td>\n",
              "      <td>1048573</td>\n",
              "      <td>1048573</td>\n",
              "      <td>1048573</td>\n",
              "      <td>1048573</td>\n",
              "      <td>1048573</td>\n",
              "    </tr>\n",
              "    <tr>\n",
              "      <th>unique</th>\n",
              "      <td>4</td>\n",
              "      <td>1048462</td>\n",
              "      <td>662451</td>\n",
              "      <td>2</td>\n",
              "      <td>511365</td>\n",
              "      <td>1036133</td>\n",
              "    </tr>\n",
              "    <tr>\n",
              "      <th>top</th>\n",
              "      <td>0</td>\n",
              "      <td>1957692870</td>\n",
              "      <td>Fri May 22 05:10:17 PDT 2009</td>\n",
              "      <td>NO_QUERY</td>\n",
              "      <td>lost_dog</td>\n",
              "      <td>isPlayer Has Died! Sorry</td>\n",
              "    </tr>\n",
              "    <tr>\n",
              "      <th>freq</th>\n",
              "      <td>668925</td>\n",
              "      <td>2</td>\n",
              "      <td>17</td>\n",
              "      <td>1048572</td>\n",
              "      <td>549</td>\n",
              "      <td>210</td>\n",
              "    </tr>\n",
              "  </tbody>\n",
              "</table>\n",
              "</div>\n",
              "    <div class=\"colab-df-buttons\">\n",
              "\n",
              "  <div class=\"colab-df-container\">\n",
              "    <button class=\"colab-df-convert\" onclick=\"convertToInteractive('df-40603fdb-a520-46bb-b921-0db7bc6306b4')\"\n",
              "            title=\"Convert this dataframe to an interactive table.\"\n",
              "            style=\"display:none;\">\n",
              "\n",
              "  <svg xmlns=\"http://www.w3.org/2000/svg\" height=\"24px\" viewBox=\"0 -960 960 960\">\n",
              "    <path d=\"M120-120v-720h720v720H120Zm60-500h600v-160H180v160Zm220 220h160v-160H400v160Zm0 220h160v-160H400v160ZM180-400h160v-160H180v160Zm440 0h160v-160H620v160ZM180-180h160v-160H180v160Zm440 0h160v-160H620v160Z\"/>\n",
              "  </svg>\n",
              "    </button>\n",
              "\n",
              "  <style>\n",
              "    .colab-df-container {\n",
              "      display:flex;\n",
              "      gap: 12px;\n",
              "    }\n",
              "\n",
              "    .colab-df-convert {\n",
              "      background-color: #E8F0FE;\n",
              "      border: none;\n",
              "      border-radius: 50%;\n",
              "      cursor: pointer;\n",
              "      display: none;\n",
              "      fill: #1967D2;\n",
              "      height: 32px;\n",
              "      padding: 0 0 0 0;\n",
              "      width: 32px;\n",
              "    }\n",
              "\n",
              "    .colab-df-convert:hover {\n",
              "      background-color: #E2EBFA;\n",
              "      box-shadow: 0px 1px 2px rgba(60, 64, 67, 0.3), 0px 1px 3px 1px rgba(60, 64, 67, 0.15);\n",
              "      fill: #174EA6;\n",
              "    }\n",
              "\n",
              "    .colab-df-buttons div {\n",
              "      margin-bottom: 4px;\n",
              "    }\n",
              "\n",
              "    [theme=dark] .colab-df-convert {\n",
              "      background-color: #3B4455;\n",
              "      fill: #D2E3FC;\n",
              "    }\n",
              "\n",
              "    [theme=dark] .colab-df-convert:hover {\n",
              "      background-color: #434B5C;\n",
              "      box-shadow: 0px 1px 3px 1px rgba(0, 0, 0, 0.15);\n",
              "      filter: drop-shadow(0px 1px 2px rgba(0, 0, 0, 0.3));\n",
              "      fill: #FFFFFF;\n",
              "    }\n",
              "  </style>\n",
              "\n",
              "    <script>\n",
              "      const buttonEl =\n",
              "        document.querySelector('#df-40603fdb-a520-46bb-b921-0db7bc6306b4 button.colab-df-convert');\n",
              "      buttonEl.style.display =\n",
              "        google.colab.kernel.accessAllowed ? 'block' : 'none';\n",
              "\n",
              "      async function convertToInteractive(key) {\n",
              "        const element = document.querySelector('#df-40603fdb-a520-46bb-b921-0db7bc6306b4');\n",
              "        const dataTable =\n",
              "          await google.colab.kernel.invokeFunction('convertToInteractive',\n",
              "                                                    [key], {});\n",
              "        if (!dataTable) return;\n",
              "\n",
              "        const docLinkHtml = 'Like what you see? Visit the ' +\n",
              "          '<a target=\"_blank\" href=https://colab.research.google.com/notebooks/data_table.ipynb>data table notebook</a>'\n",
              "          + ' to learn more about interactive tables.';\n",
              "        element.innerHTML = '';\n",
              "        dataTable['output_type'] = 'display_data';\n",
              "        await google.colab.output.renderOutput(dataTable, element);\n",
              "        const docLink = document.createElement('div');\n",
              "        docLink.innerHTML = docLinkHtml;\n",
              "        element.appendChild(docLink);\n",
              "      }\n",
              "    </script>\n",
              "  </div>\n",
              "\n",
              "\n",
              "<div id=\"df-58347c29-2a28-4f5d-9a67-23f7ba53e34c\">\n",
              "  <button class=\"colab-df-quickchart\" onclick=\"quickchart('df-58347c29-2a28-4f5d-9a67-23f7ba53e34c')\"\n",
              "            title=\"Suggest charts\"\n",
              "            style=\"display:none;\">\n",
              "\n",
              "<svg xmlns=\"http://www.w3.org/2000/svg\" height=\"24px\"viewBox=\"0 0 24 24\"\n",
              "     width=\"24px\">\n",
              "    <g>\n",
              "        <path d=\"M19 3H5c-1.1 0-2 .9-2 2v14c0 1.1.9 2 2 2h14c1.1 0 2-.9 2-2V5c0-1.1-.9-2-2-2zM9 17H7v-7h2v7zm4 0h-2V7h2v10zm4 0h-2v-4h2v4z\"/>\n",
              "    </g>\n",
              "</svg>\n",
              "  </button>\n",
              "\n",
              "<style>\n",
              "  .colab-df-quickchart {\n",
              "      --bg-color: #E8F0FE;\n",
              "      --fill-color: #1967D2;\n",
              "      --hover-bg-color: #E2EBFA;\n",
              "      --hover-fill-color: #174EA6;\n",
              "      --disabled-fill-color: #AAA;\n",
              "      --disabled-bg-color: #DDD;\n",
              "  }\n",
              "\n",
              "  [theme=dark] .colab-df-quickchart {\n",
              "      --bg-color: #3B4455;\n",
              "      --fill-color: #D2E3FC;\n",
              "      --hover-bg-color: #434B5C;\n",
              "      --hover-fill-color: #FFFFFF;\n",
              "      --disabled-bg-color: #3B4455;\n",
              "      --disabled-fill-color: #666;\n",
              "  }\n",
              "\n",
              "  .colab-df-quickchart {\n",
              "    background-color: var(--bg-color);\n",
              "    border: none;\n",
              "    border-radius: 50%;\n",
              "    cursor: pointer;\n",
              "    display: none;\n",
              "    fill: var(--fill-color);\n",
              "    height: 32px;\n",
              "    padding: 0;\n",
              "    width: 32px;\n",
              "  }\n",
              "\n",
              "  .colab-df-quickchart:hover {\n",
              "    background-color: var(--hover-bg-color);\n",
              "    box-shadow: 0 1px 2px rgba(60, 64, 67, 0.3), 0 1px 3px 1px rgba(60, 64, 67, 0.15);\n",
              "    fill: var(--button-hover-fill-color);\n",
              "  }\n",
              "\n",
              "  .colab-df-quickchart-complete:disabled,\n",
              "  .colab-df-quickchart-complete:disabled:hover {\n",
              "    background-color: var(--disabled-bg-color);\n",
              "    fill: var(--disabled-fill-color);\n",
              "    box-shadow: none;\n",
              "  }\n",
              "\n",
              "  .colab-df-spinner {\n",
              "    border: 2px solid var(--fill-color);\n",
              "    border-color: transparent;\n",
              "    border-bottom-color: var(--fill-color);\n",
              "    animation:\n",
              "      spin 1s steps(1) infinite;\n",
              "  }\n",
              "\n",
              "  @keyframes spin {\n",
              "    0% {\n",
              "      border-color: transparent;\n",
              "      border-bottom-color: var(--fill-color);\n",
              "      border-left-color: var(--fill-color);\n",
              "    }\n",
              "    20% {\n",
              "      border-color: transparent;\n",
              "      border-left-color: var(--fill-color);\n",
              "      border-top-color: var(--fill-color);\n",
              "    }\n",
              "    30% {\n",
              "      border-color: transparent;\n",
              "      border-left-color: var(--fill-color);\n",
              "      border-top-color: var(--fill-color);\n",
              "      border-right-color: var(--fill-color);\n",
              "    }\n",
              "    40% {\n",
              "      border-color: transparent;\n",
              "      border-right-color: var(--fill-color);\n",
              "      border-top-color: var(--fill-color);\n",
              "    }\n",
              "    60% {\n",
              "      border-color: transparent;\n",
              "      border-right-color: var(--fill-color);\n",
              "    }\n",
              "    80% {\n",
              "      border-color: transparent;\n",
              "      border-right-color: var(--fill-color);\n",
              "      border-bottom-color: var(--fill-color);\n",
              "    }\n",
              "    90% {\n",
              "      border-color: transparent;\n",
              "      border-bottom-color: var(--fill-color);\n",
              "    }\n",
              "  }\n",
              "</style>\n",
              "\n",
              "  <script>\n",
              "    async function quickchart(key) {\n",
              "      const quickchartButtonEl =\n",
              "        document.querySelector('#' + key + ' button');\n",
              "      quickchartButtonEl.disabled = true;  // To prevent multiple clicks.\n",
              "      quickchartButtonEl.classList.add('colab-df-spinner');\n",
              "      try {\n",
              "        const charts = await google.colab.kernel.invokeFunction(\n",
              "            'suggestCharts', [key], {});\n",
              "      } catch (error) {\n",
              "        console.error('Error during call to suggestCharts:', error);\n",
              "      }\n",
              "      quickchartButtonEl.classList.remove('colab-df-spinner');\n",
              "      quickchartButtonEl.classList.add('colab-df-quickchart-complete');\n",
              "    }\n",
              "    (() => {\n",
              "      let quickchartButtonEl =\n",
              "        document.querySelector('#df-58347c29-2a28-4f5d-9a67-23f7ba53e34c button');\n",
              "      quickchartButtonEl.style.display =\n",
              "        google.colab.kernel.accessAllowed ? 'block' : 'none';\n",
              "    })();\n",
              "  </script>\n",
              "</div>\n",
              "\n",
              "    </div>\n",
              "  </div>\n"
            ],
            "application/vnd.google.colaboratory.intrinsic+json": {
              "type": "dataframe",
              "summary": "{\n  \"name\": \"df\",\n  \"rows\": 4,\n  \"fields\": [\n    {\n      \"column\": \"target\",\n      \"properties\": {\n        \"dtype\": \"number\",\n        \"std\": 519458,\n        \"min\": 0,\n        \"max\": 1048573,\n        \"num_unique_values\": 4,\n        \"samples\": [\n          4,\n          668925,\n          1048573\n        ],\n        \"semantic_type\": \"\",\n        \"description\": \"\"\n      }\n    },\n    {\n      \"column\": \"id\",\n      \"properties\": {\n        \"dtype\": \"number\",\n        \"std\": 978497053,\n        \"min\": 2,\n        \"max\": 1957692870,\n        \"num_unique_values\": 4,\n        \"samples\": [\n          1048462,\n          2,\n          1048573\n        ],\n        \"semantic_type\": \"\",\n        \"description\": \"\"\n      }\n    },\n    {\n      \"column\": \"date\",\n      \"properties\": {\n        \"dtype\": \"date\",\n        \"min\": \"1970-01-01 00:00:00.000000017\",\n        \"max\": \"2009-05-22 05:10:17\",\n        \"num_unique_values\": 4,\n        \"samples\": [\n          662451,\n          \"17\",\n          \"1048573\"\n        ],\n        \"semantic_type\": \"\",\n        \"description\": \"\"\n      }\n    },\n    {\n      \"column\": \"flag\",\n      \"properties\": {\n        \"dtype\": \"string\",\n        \"num_unique_values\": 4,\n        \"samples\": [\n          2,\n          \"1048572\",\n          \"1048573\"\n        ],\n        \"semantic_type\": \"\",\n        \"description\": \"\"\n      }\n    },\n    {\n      \"column\": \"user\",\n      \"properties\": {\n        \"dtype\": \"string\",\n        \"num_unique_values\": 4,\n        \"samples\": [\n          511365,\n          \"549\",\n          \"1048573\"\n        ],\n        \"semantic_type\": \"\",\n        \"description\": \"\"\n      }\n    },\n    {\n      \"column\": \"text\",\n      \"properties\": {\n        \"dtype\": \"string\",\n        \"num_unique_values\": 4,\n        \"samples\": [\n          1036133,\n          \"210\",\n          \"1048573\"\n        ],\n        \"semantic_type\": \"\",\n        \"description\": \"\"\n      }\n    }\n  ]\n}"
            }
          },
          "metadata": {},
          "execution_count": 6
        }
      ]
    },
    {
      "cell_type": "code",
      "execution_count": 7,
      "id": "7e103b69-b64f-4a3a-905b-ff1c94d8b989",
      "metadata": {
        "colab": {
          "base_uri": "https://localhost:8080/"
        },
        "id": "7e103b69-b64f-4a3a-905b-ff1c94d8b989",
        "outputId": "3828f33d-cba7-453a-eb8e-d2121818e920"
      },
      "outputs": [
        {
          "output_type": "stream",
          "name": "stdout",
          "text": [
            "<class 'pandas.core.frame.DataFrame'>\n",
            "RangeIndex: 1048573 entries, 0 to 1048572\n",
            "Data columns (total 6 columns):\n",
            " #   Column  Non-Null Count    Dtype \n",
            "---  ------  --------------    ----- \n",
            " 0   target  1048573 non-null  object\n",
            " 1   id      1048573 non-null  object\n",
            " 2   date    1048573 non-null  object\n",
            " 3   flag    1048573 non-null  object\n",
            " 4   user    1048573 non-null  object\n",
            " 5   text    1048573 non-null  object\n",
            "dtypes: object(6)\n",
            "memory usage: 48.0+ MB\n"
          ]
        }
      ],
      "source": [
        "df.info()"
      ]
    },
    {
      "cell_type": "code",
      "execution_count": 8,
      "id": "16198fdd-0972-45b8-84e7-617c62cdbcfb",
      "metadata": {
        "colab": {
          "base_uri": "https://localhost:8080/",
          "height": 36
        },
        "id": "16198fdd-0972-45b8-84e7-617c62cdbcfb",
        "outputId": "da8d023e-dcaf-481b-f0f8-e105043c89e6"
      },
      "outputs": [
        {
          "output_type": "execute_result",
          "data": {
            "text/plain": [
              "'@Kwesidei not the whole crew '"
            ],
            "application/vnd.google.colaboratory.intrinsic+json": {
              "type": "string"
            }
          },
          "metadata": {},
          "execution_count": 8
        }
      ],
      "source": [
        "df['text'][5]"
      ]
    },
    {
      "cell_type": "code",
      "execution_count": 9,
      "id": "260d5886-f373-4888-a54c-1e27876e9c3a",
      "metadata": {
        "colab": {
          "base_uri": "https://localhost:8080/",
          "height": 36
        },
        "id": "260d5886-f373-4888-a54c-1e27876e9c3a",
        "outputId": "b89cff02-8bd0-4d73-d126-2c80d66ea995"
      },
      "outputs": [
        {
          "output_type": "execute_result",
          "data": {
            "text/plain": [
              "\"@LOLTrish hey  long time no see! Yes.. Rains a bit ,only a bit  LOL , I'm fine thanks , how's you ?\""
            ],
            "application/vnd.google.colaboratory.intrinsic+json": {
              "type": "string"
            }
          },
          "metadata": {},
          "execution_count": 9
        }
      ],
      "source": [
        "df['text'][7]"
      ]
    },
    {
      "cell_type": "code",
      "execution_count": 10,
      "id": "d1b48639-182a-4678-a4e6-490f6a919fad",
      "metadata": {
        "id": "d1b48639-182a-4678-a4e6-490f6a919fad"
      },
      "outputs": [],
      "source": [
        "df['tweet'] = df['text'].str.lower()"
      ]
    },
    {
      "cell_type": "code",
      "execution_count": 11,
      "id": "cd5c9ece-63d7-465c-9df4-78cb3dacc92f",
      "metadata": {
        "colab": {
          "base_uri": "https://localhost:8080/",
          "height": 36
        },
        "id": "cd5c9ece-63d7-465c-9df4-78cb3dacc92f",
        "outputId": "30b1d8bf-114b-4834-8c6e-32daa3498014"
      },
      "outputs": [
        {
          "output_type": "execute_result",
          "data": {
            "text/plain": [
              "\"@loltrish hey  long time no see! yes.. rains a bit ,only a bit  lol , i'm fine thanks , how's you ?\""
            ],
            "application/vnd.google.colaboratory.intrinsic+json": {
              "type": "string"
            }
          },
          "metadata": {},
          "execution_count": 11
        }
      ],
      "source": [
        "df['tweet'][7]"
      ]
    },
    {
      "cell_type": "code",
      "execution_count": 12,
      "id": "3111090d-010d-4fb8-bc39-a08b5c75c1bf",
      "metadata": {
        "id": "3111090d-010d-4fb8-bc39-a08b5c75c1bf"
      },
      "outputs": [],
      "source": [
        "df['tweet'] = df['tweet'].apply(lambda x:re.sub(r'[^a-zA-Z\\s]',\"\",x))"
      ]
    },
    {
      "cell_type": "code",
      "execution_count": 13,
      "id": "7aadc283-34d6-4bc9-9253-8b8b56fd5cb5",
      "metadata": {
        "colab": {
          "base_uri": "https://localhost:8080/",
          "height": 36
        },
        "id": "7aadc283-34d6-4bc9-9253-8b8b56fd5cb5",
        "outputId": "1a21d89c-bfc8-497d-dcd0-9137c754525c"
      },
      "outputs": [
        {
          "output_type": "execute_result",
          "data": {
            "text/plain": [
              "'kwesidei not the whole crew '"
            ],
            "application/vnd.google.colaboratory.intrinsic+json": {
              "type": "string"
            }
          },
          "metadata": {},
          "execution_count": 13
        }
      ],
      "source": [
        "df['tweet'][5]"
      ]
    },
    {
      "cell_type": "code",
      "execution_count": 14,
      "id": "49d3a7c4-523a-42ed-bd5b-320531177a3b",
      "metadata": {
        "colab": {
          "base_uri": "https://localhost:8080/",
          "height": 36
        },
        "id": "49d3a7c4-523a-42ed-bd5b-320531177a3b",
        "outputId": "335e36e2-cb2e-4f72-c58e-45f0c9717d55"
      },
      "outputs": [
        {
          "output_type": "execute_result",
          "data": {
            "text/plain": [
              "'loltrish hey  long time no see yes rains a bit only a bit  lol  im fine thanks  hows you '"
            ],
            "application/vnd.google.colaboratory.intrinsic+json": {
              "type": "string"
            }
          },
          "metadata": {},
          "execution_count": 14
        }
      ],
      "source": [
        "df['tweet'][7]"
      ]
    },
    {
      "cell_type": "code",
      "execution_count": 15,
      "id": "0ff61da1-b463-4b7e-a055-bd3ce199e229",
      "metadata": {
        "id": "0ff61da1-b463-4b7e-a055-bd3ce199e229"
      },
      "outputs": [],
      "source": [
        "df[\"tweet_tokens\"] = df['tweet'].apply(lambda x:x.split())"
      ]
    },
    {
      "cell_type": "code",
      "execution_count": 16,
      "id": "d60ca687-d7ae-4e41-9476-1560850b6d23",
      "metadata": {
        "colab": {
          "base_uri": "https://localhost:8080/"
        },
        "id": "d60ca687-d7ae-4e41-9476-1560850b6d23",
        "outputId": "08a66803-bd99-4b24-81ee-f76f148c9015"
      },
      "outputs": [
        {
          "output_type": "execute_result",
          "data": {
            "text/plain": [
              "['loltrish',\n",
              " 'hey',\n",
              " 'long',\n",
              " 'time',\n",
              " 'no',\n",
              " 'see',\n",
              " 'yes',\n",
              " 'rains',\n",
              " 'a',\n",
              " 'bit',\n",
              " 'only',\n",
              " 'a',\n",
              " 'bit',\n",
              " 'lol',\n",
              " 'im',\n",
              " 'fine',\n",
              " 'thanks',\n",
              " 'hows',\n",
              " 'you']"
            ]
          },
          "metadata": {},
          "execution_count": 16
        }
      ],
      "source": [
        "df[\"tweet_tokens\"][7]"
      ]
    },
    {
      "cell_type": "code",
      "execution_count": 17,
      "id": "cdcd663c-1569-4593-a551-f92facb0916e",
      "metadata": {
        "id": "cdcd663c-1569-4593-a551-f92facb0916e"
      },
      "outputs": [],
      "source": [
        "lemma = WordNetLemmatizer()"
      ]
    },
    {
      "cell_type": "code",
      "execution_count": 18,
      "id": "f2780b33-48c2-4dd5-be51-fd6faff2c721",
      "metadata": {
        "colab": {
          "base_uri": "https://localhost:8080/"
        },
        "id": "f2780b33-48c2-4dd5-be51-fd6faff2c721",
        "outputId": "918f86d2-afc4-49eb-e1ed-4b71afb80abb"
      },
      "outputs": [
        {
          "output_type": "stream",
          "name": "stderr",
          "text": [
            "[nltk_data] Downloading package stopwords to /root/nltk_data...\n",
            "[nltk_data]   Unzipping corpora/stopwords.zip.\n"
          ]
        }
      ],
      "source": [
        "nltk.download('stopwords')\n",
        "stop_words = set(stopwords.words('english'))"
      ]
    },
    {
      "cell_type": "code",
      "execution_count": 19,
      "id": "ab1fbf15-fe30-44d2-a988-8b89675c11ac",
      "metadata": {
        "colab": {
          "base_uri": "https://localhost:8080/"
        },
        "id": "ab1fbf15-fe30-44d2-a988-8b89675c11ac",
        "outputId": "e87e92be-c7dd-4084-abb5-ffaa862a37bb"
      },
      "outputs": [
        {
          "output_type": "execute_result",
          "data": {
            "text/plain": [
              "179"
            ]
          },
          "metadata": {},
          "execution_count": 19
        }
      ],
      "source": [
        "len(stop_words)"
      ]
    },
    {
      "cell_type": "code",
      "execution_count": 20,
      "id": "84e1e68e-89dd-41c6-8813-2029e7a15e5e",
      "metadata": {
        "id": "84e1e68e-89dd-41c6-8813-2029e7a15e5e"
      },
      "outputs": [],
      "source": [
        "df['tweet_refine'] = df['tweet_tokens'].apply(lambda x: [word for word in x if word not in stop_words])"
      ]
    },
    {
      "cell_type": "code",
      "execution_count": 21,
      "id": "07028549-f3ed-41a5-b6d6-556d88abdb89",
      "metadata": {
        "colab": {
          "base_uri": "https://localhost:8080/",
          "height": 458
        },
        "id": "07028549-f3ed-41a5-b6d6-556d88abdb89",
        "outputId": "019b321d-b7e7-42c2-ffc4-d138a981e9e5"
      },
      "outputs": [
        {
          "output_type": "execute_result",
          "data": {
            "text/plain": [
              "0                                              [text, tweet]\n",
              "1          [upset, cant, update, facebook, texting, might...\n",
              "2          [kenichan, dived, many, times, ball, managed, ...\n",
              "3                    [whole, body, feels, itchy, like, fire]\n",
              "4            [nationwideclass, behaving, im, mad, cant, see]\n",
              "                                 ...                        \n",
              "1048568                       [grandma, making, dinenr, mum]\n",
              "1048569    [midmorning, snack, time, bowl, cheese, noodle...\n",
              "1048570    [shadela, say, like, terminiator, movies, come...\n",
              "1048571              [destinyhope, im, great, thaanks, wbuu]\n",
              "1048572                     [cant, wait, til, date, weekend]\n",
              "Name: tweet_refine, Length: 1048573, dtype: object"
            ],
            "text/html": [
              "<div>\n",
              "<style scoped>\n",
              "    .dataframe tbody tr th:only-of-type {\n",
              "        vertical-align: middle;\n",
              "    }\n",
              "\n",
              "    .dataframe tbody tr th {\n",
              "        vertical-align: top;\n",
              "    }\n",
              "\n",
              "    .dataframe thead th {\n",
              "        text-align: right;\n",
              "    }\n",
              "</style>\n",
              "<table border=\"1\" class=\"dataframe\">\n",
              "  <thead>\n",
              "    <tr style=\"text-align: right;\">\n",
              "      <th></th>\n",
              "      <th>tweet_refine</th>\n",
              "    </tr>\n",
              "  </thead>\n",
              "  <tbody>\n",
              "    <tr>\n",
              "      <th>0</th>\n",
              "      <td>[text, tweet]</td>\n",
              "    </tr>\n",
              "    <tr>\n",
              "      <th>1</th>\n",
              "      <td>[upset, cant, update, facebook, texting, might...</td>\n",
              "    </tr>\n",
              "    <tr>\n",
              "      <th>2</th>\n",
              "      <td>[kenichan, dived, many, times, ball, managed, ...</td>\n",
              "    </tr>\n",
              "    <tr>\n",
              "      <th>3</th>\n",
              "      <td>[whole, body, feels, itchy, like, fire]</td>\n",
              "    </tr>\n",
              "    <tr>\n",
              "      <th>4</th>\n",
              "      <td>[nationwideclass, behaving, im, mad, cant, see]</td>\n",
              "    </tr>\n",
              "    <tr>\n",
              "      <th>...</th>\n",
              "      <td>...</td>\n",
              "    </tr>\n",
              "    <tr>\n",
              "      <th>1048568</th>\n",
              "      <td>[grandma, making, dinenr, mum]</td>\n",
              "    </tr>\n",
              "    <tr>\n",
              "      <th>1048569</th>\n",
              "      <td>[midmorning, snack, time, bowl, cheese, noodle...</td>\n",
              "    </tr>\n",
              "    <tr>\n",
              "      <th>1048570</th>\n",
              "      <td>[shadela, say, like, terminiator, movies, come...</td>\n",
              "    </tr>\n",
              "    <tr>\n",
              "      <th>1048571</th>\n",
              "      <td>[destinyhope, im, great, thaanks, wbuu]</td>\n",
              "    </tr>\n",
              "    <tr>\n",
              "      <th>1048572</th>\n",
              "      <td>[cant, wait, til, date, weekend]</td>\n",
              "    </tr>\n",
              "  </tbody>\n",
              "</table>\n",
              "<p>1048573 rows × 1 columns</p>\n",
              "</div><br><label><b>dtype:</b> object</label>"
            ]
          },
          "metadata": {},
          "execution_count": 21
        }
      ],
      "source": [
        "df['tweet_refine']"
      ]
    },
    {
      "cell_type": "code",
      "execution_count": 22,
      "id": "9df21e52-002c-46cc-afeb-f1791bbe13e8",
      "metadata": {
        "colab": {
          "base_uri": "https://localhost:8080/"
        },
        "id": "9df21e52-002c-46cc-afeb-f1791bbe13e8",
        "outputId": "faa08320-34c7-4a7c-dfb7-4db71493b3f9"
      },
      "outputs": [
        {
          "output_type": "stream",
          "name": "stderr",
          "text": [
            "[nltk_data] Downloading package wordnet to /root/nltk_data...\n"
          ]
        }
      ],
      "source": [
        "nltk.download('wordnet')\n",
        "df['tweet_refine'] = df['tweet_refine'].apply(lambda x: [lemma.lemmatize(word) for word in x])"
      ]
    },
    {
      "cell_type": "code",
      "execution_count": 23,
      "id": "c9988be3-9662-47e5-b4c9-a5cb36e6efda",
      "metadata": {
        "colab": {
          "base_uri": "https://localhost:8080/"
        },
        "id": "c9988be3-9662-47e5-b4c9-a5cb36e6efda",
        "outputId": "2496c688-724b-4e34-aa75-45c8d986e1b8"
      },
      "outputs": [
        {
          "output_type": "execute_result",
          "data": {
            "text/plain": [
              "['kinsey',\n",
              " 'whearty',\n",
              " 'put',\n",
              " 'much',\n",
              " 'milk',\n",
              " 'coffee',\n",
              " 'chicory',\n",
              " 'oh',\n",
              " 'sadness',\n",
              " 'ala']"
            ]
          },
          "metadata": {},
          "execution_count": 23
        }
      ],
      "source": [
        "df['tweet_refine'][5634]"
      ]
    },
    {
      "cell_type": "code",
      "execution_count": 24,
      "id": "dfb98a11-e87b-4248-bd66-75e011baa783",
      "metadata": {
        "id": "dfb98a11-e87b-4248-bd66-75e011baa783"
      },
      "outputs": [],
      "source": [
        "X = df[\"tweet_refine\"]\n",
        "y = df['target']"
      ]
    },
    {
      "cell_type": "code",
      "execution_count": 25,
      "id": "b1a5c3ff-f95e-4477-993b-7c5274a82755",
      "metadata": {
        "colab": {
          "base_uri": "https://localhost:8080/"
        },
        "id": "b1a5c3ff-f95e-4477-993b-7c5274a82755",
        "outputId": "1839bdb4-9a2c-4564-b99b-e0be45b50a1b"
      },
      "outputs": [
        {
          "output_type": "execute_result",
          "data": {
            "text/plain": [
              "5"
            ]
          },
          "metadata": {},
          "execution_count": 25
        }
      ],
      "source": [
        "len(X[2452])"
      ]
    },
    {
      "cell_type": "code",
      "execution_count": 26,
      "id": "0579dade-08f7-477e-9882-57ac4d9697d9",
      "metadata": {
        "id": "0579dade-08f7-477e-9882-57ac4d9697d9"
      },
      "outputs": [],
      "source": [
        "tokenizer = Tokenizer(num_words=100000,oov_token=\"<OOV>\")"
      ]
    },
    {
      "cell_type": "code",
      "execution_count": 27,
      "id": "01fcb78f-28eb-47de-8008-ee0ffa4b4613",
      "metadata": {
        "id": "01fcb78f-28eb-47de-8008-ee0ffa4b4613"
      },
      "outputs": [],
      "source": [
        "tokenizer.fit_on_texts(X)"
      ]
    },
    {
      "cell_type": "code",
      "execution_count": 28,
      "id": "d31c1817-943d-48e5-ac42-de61491315eb",
      "metadata": {
        "id": "d31c1817-943d-48e5-ac42-de61491315eb"
      },
      "outputs": [],
      "source": [
        "X_tokenized = tokenizer.texts_to_sequences(X)"
      ]
    },
    {
      "cell_type": "code",
      "execution_count": 29,
      "id": "2b0d3488-71aa-4563-beb9-2f03f0a165b0",
      "metadata": {
        "colab": {
          "base_uri": "https://localhost:8080/"
        },
        "id": "2b0d3488-71aa-4563-beb9-2f03f0a165b0",
        "outputId": "a0ee6354-96b1-48aa-dc50-9252ff34ab21"
      },
      "outputs": [
        {
          "output_type": "execute_result",
          "data": {
            "text/plain": [
              "8"
            ]
          },
          "metadata": {},
          "execution_count": 29
        }
      ],
      "source": [
        "len(X_tokenized[454])"
      ]
    },
    {
      "cell_type": "code",
      "execution_count": 30,
      "id": "dcf9dda6-b0f9-483b-b211-d77079388770",
      "metadata": {
        "colab": {
          "base_uri": "https://localhost:8080/"
        },
        "id": "dcf9dda6-b0f9-483b-b211-d77079388770",
        "outputId": "e2f667f6-26bc-4c07-aef6-7ee092034d40"
      },
      "outputs": [
        {
          "output_type": "execute_result",
          "data": {
            "text/plain": [
              "['nasty', 'scraping', 'noise', 'back', 'car']"
            ]
          },
          "metadata": {},
          "execution_count": 30
        }
      ],
      "source": [
        "X[2452]"
      ]
    },
    {
      "cell_type": "code",
      "execution_count": 31,
      "id": "2688a76c-b0d9-4786-8972-46071e9d3028",
      "metadata": {
        "id": "2688a76c-b0d9-4786-8972-46071e9d3028"
      },
      "outputs": [],
      "source": [
        "X_padded = pad_sequences(X_tokenized, maxlen=50)"
      ]
    },
    {
      "cell_type": "code",
      "execution_count": 32,
      "id": "2748b26a-6c32-4e0c-9da1-32389701bc79",
      "metadata": {
        "colab": {
          "base_uri": "https://localhost:8080/"
        },
        "id": "2748b26a-6c32-4e0c-9da1-32389701bc79",
        "outputId": "55367868-1d1e-49a4-c513-fbcd70ab2ef7"
      },
      "outputs": [
        {
          "output_type": "execute_result",
          "data": {
            "text/plain": [
              "50"
            ]
          },
          "metadata": {},
          "execution_count": 32
        }
      ],
      "source": [
        "len(X_padded[534])"
      ]
    },
    {
      "cell_type": "code",
      "execution_count": 33,
      "id": "2ff288ce-3b04-410f-99ba-68fba8796d9d",
      "metadata": {
        "colab": {
          "base_uri": "https://localhost:8080/"
        },
        "id": "2ff288ce-3b04-410f-99ba-68fba8796d9d",
        "outputId": "1bb593bc-7ae6-4612-8965-9692df0aa8ad"
      },
      "outputs": [
        {
          "output_type": "execute_result",
          "data": {
            "text/plain": [
              "array([[    0,     0,     0, ...,     0,   429,   106],\n",
              "       [    0,     0,     0, ...,    11,   191,   902],\n",
              "       [    0,     0,     0, ...,   385,     5,  3115],\n",
              "       ...,\n",
              "       [    0,     0,     0, ...,    53,     6,   412],\n",
              "       [    0,     0,     0, ...,    61, 38316, 93523],\n",
              "       [    0,     0,     0, ...,   398,   609,    81]], dtype=int32)"
            ]
          },
          "metadata": {},
          "execution_count": 33
        }
      ],
      "source": [
        "(X_padded)"
      ]
    },
    {
      "cell_type": "code",
      "execution_count": 34,
      "id": "e1e26715-a79e-46fe-a1a3-d7f5980bb88f",
      "metadata": {
        "colab": {
          "base_uri": "https://localhost:8080/"
        },
        "id": "e1e26715-a79e-46fe-a1a3-d7f5980bb88f",
        "outputId": "68ac25b6-07b0-465c-84de-a7c15a9cdf3e"
      },
      "outputs": [
        {
          "output_type": "execute_result",
          "data": {
            "text/plain": [
              "array(['polarity of tweet\\xa0', '0', 0, 4], dtype=object)"
            ]
          },
          "metadata": {},
          "execution_count": 34
        }
      ],
      "source": [
        "y.unique()"
      ]
    },
    {
      "cell_type": "code",
      "execution_count": 35,
      "id": "d8baa2de-f60e-4fec-a54e-55a098311d23",
      "metadata": {
        "id": "d8baa2de-f60e-4fec-a54e-55a098311d23"
      },
      "outputs": [],
      "source": [
        "# Build LSTM model\n",
        "def build_lstm_model(vocab_size, embedding_dim=100, max_len=50):\n",
        "    model = Sequential([\n",
        "        Embedding(vocab_size, embedding_dim, input_length=max_len),\n",
        "        LSTM(128, return_sequences=True),\n",
        "        LSTM(64),\n",
        "        Dense(64, activation='relu'),\n",
        "        Dropout(0.5),\n",
        "        Dense(1, activation='sigmoid')\n",
        "    ])\n",
        "    model.compile(optimizer='adam', loss='binary_crossentropy', metrics=['accuracy'])\n",
        "    return model"
      ]
    },
    {
      "cell_type": "code",
      "execution_count": 36,
      "id": "2f679b51-3da8-4e48-a537-f19f044e6fc9",
      "metadata": {
        "id": "2f679b51-3da8-4e48-a537-f19f044e6fc9"
      },
      "outputs": [],
      "source": [
        "def train_model(model, X_train, y_train, X_val, y_val, epochs=4, batch_size=64):\n",
        "    history = model.fit(\n",
        "        X_train, y_train,\n",
        "        epochs=epochs,\n",
        "        batch_size=batch_size,\n",
        "        validation_data=(X_val, y_val),\n",
        "        verbose=1\n",
        "    )\n",
        "    return history"
      ]
    },
    {
      "cell_type": "code",
      "execution_count": 37,
      "id": "ddf50adb-ad5d-4207-90e2-d697aa62c235",
      "metadata": {
        "id": "ddf50adb-ad5d-4207-90e2-d697aa62c235"
      },
      "outputs": [],
      "source": [
        "X_train, X_test, y_train, y_test = train_test_split(X_padded, y, test_size=0.2, random_state=42)\n",
        "X_train, X_val, y_train, y_val = train_test_split(X_train, y_train, test_size=0.2, random_state=42)"
      ]
    },
    {
      "cell_type": "code",
      "execution_count": 38,
      "id": "e5bb4469-3c49-472d-8c62-4286d472a46a",
      "metadata": {
        "id": "e5bb4469-3c49-472d-8c62-4286d472a46a"
      },
      "outputs": [],
      "source": [
        "vocab_size = len(tokenizer.word_index) + 1"
      ]
    },
    {
      "cell_type": "code",
      "execution_count": 39,
      "id": "f84d9675-b9d7-400e-af59-0a4b34c42602",
      "metadata": {
        "colab": {
          "base_uri": "https://localhost:8080/"
        },
        "id": "f84d9675-b9d7-400e-af59-0a4b34c42602",
        "outputId": "31c89103-9a85-4abe-c804-e2a2c5ea7ba1"
      },
      "outputs": [
        {
          "output_type": "execute_result",
          "data": {
            "text/plain": [
              "545988"
            ]
          },
          "metadata": {},
          "execution_count": 39
        }
      ],
      "source": [
        "vocab_size"
      ]
    },
    {
      "cell_type": "code",
      "execution_count": 40,
      "id": "392c7fba-0060-44cd-99ba-1d9ddfcb9c65",
      "metadata": {
        "colab": {
          "base_uri": "https://localhost:8080/"
        },
        "id": "392c7fba-0060-44cd-99ba-1d9ddfcb9c65",
        "outputId": "979b50d0-5fe1-4413-ab44-3f1a91108fed"
      },
      "outputs": [
        {
          "output_type": "stream",
          "name": "stderr",
          "text": [
            "/usr/local/lib/python3.10/dist-packages/keras/src/layers/core/embedding.py:90: UserWarning: Argument `input_length` is deprecated. Just remove it.\n",
            "  warnings.warn(\n"
          ]
        }
      ],
      "source": [
        "model = build_lstm_model(vocab_size)"
      ]
    },
    {
      "cell_type": "code",
      "execution_count": 41,
      "id": "xFgmNn0nk_uw",
      "metadata": {
        "id": "xFgmNn0nk_uw"
      },
      "outputs": [],
      "source": [
        "import numpy as np\n",
        "\n",
        "# Assuming X_train, X_val, y_train, y_val are your NumPy arrays\n",
        "\n",
        "# Convert the input features to float32\n",
        "X_train = X_train.astype(np.float32)\n",
        "X_val = X_val.astype(np.float32)\n",
        "\n",
        "# Convert the target variables to float32 if they are numerical\n",
        "y_train = y_train.astype(np.float32)\n",
        "y_val = y_val.astype(np.float32)"
      ]
    },
    {
      "cell_type": "code",
      "execution_count": 42,
      "id": "3e78caf7-75da-4ccb-9b24-0ed36a4736d7",
      "metadata": {
        "colab": {
          "base_uri": "https://localhost:8080/"
        },
        "id": "3e78caf7-75da-4ccb-9b24-0ed36a4736d7",
        "outputId": "a2117253-0731-47a6-a51c-5172342f9cc1"
      },
      "outputs": [
        {
          "output_type": "stream",
          "name": "stdout",
          "text": [
            "Epoch 1/4\n",
            "\u001b[1m10486/10486\u001b[0m \u001b[32m━━━━━━━━━━━━━━━━━━━━\u001b[0m\u001b[37m\u001b[0m \u001b[1m416s\u001b[0m 39ms/step - accuracy: 0.3732 - loss: -8820.8916 - val_accuracy: 0.4967 - val_loss: -71352.5547\n",
            "Epoch 2/4\n",
            "\u001b[1m10486/10486\u001b[0m \u001b[32m━━━━━━━━━━━━━━━━━━━━\u001b[0m\u001b[37m\u001b[0m \u001b[1m407s\u001b[0m 39ms/step - accuracy: 0.4093 - loss: -118011.9297 - val_accuracy: 0.4976 - val_loss: -256965.8750\n",
            "Epoch 3/4\n",
            "\u001b[1m10486/10486\u001b[0m \u001b[32m━━━━━━━━━━━━━━━━━━━━\u001b[0m\u001b[37m\u001b[0m \u001b[1m444s\u001b[0m 39ms/step - accuracy: 0.4181 - loss: -368519.9062 - val_accuracy: 0.5457 - val_loss: -577443.5000\n",
            "Epoch 4/4\n",
            "\u001b[1m10486/10486\u001b[0m \u001b[32m━━━━━━━━━━━━━━━━━━━━\u001b[0m\u001b[37m\u001b[0m \u001b[1m444s\u001b[0m 39ms/step - accuracy: 0.4343 - loss: -761701.6875 - val_accuracy: 0.5538 - val_loss: -992803.5000\n"
          ]
        }
      ],
      "source": [
        "history = train_model(model, X_train, y_train, X_val, y_val)"
      ]
    },
    {
      "cell_type": "code",
      "execution_count": 43,
      "id": "e5547ed4-147d-4dca-a7da-c9b880b7cad5",
      "metadata": {
        "colab": {
          "base_uri": "https://localhost:8080/"
        },
        "id": "e5547ed4-147d-4dca-a7da-c9b880b7cad5",
        "outputId": "fede6ccf-378d-42f8-c3a6-c658ebe874ee"
      },
      "outputs": [
        {
          "output_type": "stream",
          "name": "stderr",
          "text": [
            "WARNING:absl:You are saving your model as an HDF5 file via `model.save()` or `keras.saving.save_model(model)`. This file format is considered legacy. We recommend using instead the native Keras format, e.g. `model.save('my_model.keras')` or `keras.saving.save_model(model, 'my_model.keras')`. \n"
          ]
        }
      ],
      "source": [
        " # Save the model and tokenizer\n",
        "model.save('sentiment_model.h5')\n",
        "with open('tokenizer.pickle', 'wb') as handle:\n",
        "    pickle.dump(tokenizer, handle, protocol=pickle.HIGHEST_PROTOCOL)"
      ]
    },
    {
      "cell_type": "code",
      "execution_count": 44,
      "id": "X0ohbynDngoS",
      "metadata": {
        "colab": {
          "base_uri": "https://localhost:8080/"
        },
        "id": "X0ohbynDngoS",
        "outputId": "40ce9f52-fa41-4e32-91d9-e5348031e8ac"
      },
      "outputs": [
        {
          "output_type": "stream",
          "name": "stdout",
          "text": [
            "\u001b[1m5243/5243\u001b[0m \u001b[32m━━━━━━━━━━━━━━━━━━━━\u001b[0m\u001b[37m\u001b[0m \u001b[1m21s\u001b[0m 4ms/step - accuracy: 0.5528 - loss: -987664.5000\n",
            "Validation Loss: -992804.75\n",
            "Validation Accuracy: 0.5538111329078674\n"
          ]
        }
      ],
      "source": [
        "# Evaluate the model on validation data\n",
        "loss, accuracy = model.evaluate(X_val, y_val)\n",
        "print(f\"Validation Loss: {loss}\")\n",
        "print(f\"Validation Accuracy: {accuracy}\")\n",
        "\n"
      ]
    },
    {
      "cell_type": "code",
      "source": [
        "model.summary()"
      ],
      "metadata": {
        "colab": {
          "base_uri": "https://localhost:8080/",
          "height": 337
        },
        "id": "41l0Jt_pSO64",
        "outputId": "5df4dc4c-7c5e-40d5-ab98-cc912762cac6"
      },
      "id": "41l0Jt_pSO64",
      "execution_count": 48,
      "outputs": [
        {
          "output_type": "display_data",
          "data": {
            "text/plain": [
              "\u001b[1mModel: \"sequential\"\u001b[0m\n"
            ],
            "text/html": [
              "<pre style=\"white-space:pre;overflow-x:auto;line-height:normal;font-family:Menlo,'DejaVu Sans Mono',consolas,'Courier New',monospace\"><span style=\"font-weight: bold\">Model: \"sequential\"</span>\n",
              "</pre>\n"
            ]
          },
          "metadata": {}
        },
        {
          "output_type": "display_data",
          "data": {
            "text/plain": [
              "┏━━━━━━━━━━━━━━━━━━━━━━━━━━━━━━━━━━━━━━┳━━━━━━━━━━━━━━━━━━━━━━━━━━━━━┳━━━━━━━━━━━━━━━━━┓\n",
              "┃\u001b[1m \u001b[0m\u001b[1mLayer (type)                        \u001b[0m\u001b[1m \u001b[0m┃\u001b[1m \u001b[0m\u001b[1mOutput Shape               \u001b[0m\u001b[1m \u001b[0m┃\u001b[1m \u001b[0m\u001b[1m        Param #\u001b[0m\u001b[1m \u001b[0m┃\n",
              "┡━━━━━━━━━━━━━━━━━━━━━━━━━━━━━━━━━━━━━━╇━━━━━━━━━━━━━━━━━━━━━━━━━━━━━╇━━━━━━━━━━━━━━━━━┩\n",
              "│ embedding (\u001b[38;5;33mEmbedding\u001b[0m)                │ (\u001b[38;5;45mNone\u001b[0m, \u001b[38;5;34m50\u001b[0m, \u001b[38;5;34m100\u001b[0m)             │      \u001b[38;5;34m54,598,800\u001b[0m │\n",
              "├──────────────────────────────────────┼─────────────────────────────┼─────────────────┤\n",
              "│ lstm (\u001b[38;5;33mLSTM\u001b[0m)                          │ (\u001b[38;5;45mNone\u001b[0m, \u001b[38;5;34m50\u001b[0m, \u001b[38;5;34m128\u001b[0m)             │         \u001b[38;5;34m117,248\u001b[0m │\n",
              "├──────────────────────────────────────┼─────────────────────────────┼─────────────────┤\n",
              "│ lstm_1 (\u001b[38;5;33mLSTM\u001b[0m)                        │ (\u001b[38;5;45mNone\u001b[0m, \u001b[38;5;34m64\u001b[0m)                  │          \u001b[38;5;34m49,408\u001b[0m │\n",
              "├──────────────────────────────────────┼─────────────────────────────┼─────────────────┤\n",
              "│ dense (\u001b[38;5;33mDense\u001b[0m)                        │ (\u001b[38;5;45mNone\u001b[0m, \u001b[38;5;34m64\u001b[0m)                  │           \u001b[38;5;34m4,160\u001b[0m │\n",
              "├──────────────────────────────────────┼─────────────────────────────┼─────────────────┤\n",
              "│ dropout (\u001b[38;5;33mDropout\u001b[0m)                    │ (\u001b[38;5;45mNone\u001b[0m, \u001b[38;5;34m64\u001b[0m)                  │               \u001b[38;5;34m0\u001b[0m │\n",
              "├──────────────────────────────────────┼─────────────────────────────┼─────────────────┤\n",
              "│ dense_1 (\u001b[38;5;33mDense\u001b[0m)                      │ (\u001b[38;5;45mNone\u001b[0m, \u001b[38;5;34m1\u001b[0m)                   │              \u001b[38;5;34m65\u001b[0m │\n",
              "└──────────────────────────────────────┴─────────────────────────────┴─────────────────┘\n"
            ],
            "text/html": [
              "<pre style=\"white-space:pre;overflow-x:auto;line-height:normal;font-family:Menlo,'DejaVu Sans Mono',consolas,'Courier New',monospace\">┏━━━━━━━━━━━━━━━━━━━━━━━━━━━━━━━━━━━━━━┳━━━━━━━━━━━━━━━━━━━━━━━━━━━━━┳━━━━━━━━━━━━━━━━━┓\n",
              "┃<span style=\"font-weight: bold\"> Layer (type)                         </span>┃<span style=\"font-weight: bold\"> Output Shape                </span>┃<span style=\"font-weight: bold\">         Param # </span>┃\n",
              "┡━━━━━━━━━━━━━━━━━━━━━━━━━━━━━━━━━━━━━━╇━━━━━━━━━━━━━━━━━━━━━━━━━━━━━╇━━━━━━━━━━━━━━━━━┩\n",
              "│ embedding (<span style=\"color: #0087ff; text-decoration-color: #0087ff\">Embedding</span>)                │ (<span style=\"color: #00d7ff; text-decoration-color: #00d7ff\">None</span>, <span style=\"color: #00af00; text-decoration-color: #00af00\">50</span>, <span style=\"color: #00af00; text-decoration-color: #00af00\">100</span>)             │      <span style=\"color: #00af00; text-decoration-color: #00af00\">54,598,800</span> │\n",
              "├──────────────────────────────────────┼─────────────────────────────┼─────────────────┤\n",
              "│ lstm (<span style=\"color: #0087ff; text-decoration-color: #0087ff\">LSTM</span>)                          │ (<span style=\"color: #00d7ff; text-decoration-color: #00d7ff\">None</span>, <span style=\"color: #00af00; text-decoration-color: #00af00\">50</span>, <span style=\"color: #00af00; text-decoration-color: #00af00\">128</span>)             │         <span style=\"color: #00af00; text-decoration-color: #00af00\">117,248</span> │\n",
              "├──────────────────────────────────────┼─────────────────────────────┼─────────────────┤\n",
              "│ lstm_1 (<span style=\"color: #0087ff; text-decoration-color: #0087ff\">LSTM</span>)                        │ (<span style=\"color: #00d7ff; text-decoration-color: #00d7ff\">None</span>, <span style=\"color: #00af00; text-decoration-color: #00af00\">64</span>)                  │          <span style=\"color: #00af00; text-decoration-color: #00af00\">49,408</span> │\n",
              "├──────────────────────────────────────┼─────────────────────────────┼─────────────────┤\n",
              "│ dense (<span style=\"color: #0087ff; text-decoration-color: #0087ff\">Dense</span>)                        │ (<span style=\"color: #00d7ff; text-decoration-color: #00d7ff\">None</span>, <span style=\"color: #00af00; text-decoration-color: #00af00\">64</span>)                  │           <span style=\"color: #00af00; text-decoration-color: #00af00\">4,160</span> │\n",
              "├──────────────────────────────────────┼─────────────────────────────┼─────────────────┤\n",
              "│ dropout (<span style=\"color: #0087ff; text-decoration-color: #0087ff\">Dropout</span>)                    │ (<span style=\"color: #00d7ff; text-decoration-color: #00d7ff\">None</span>, <span style=\"color: #00af00; text-decoration-color: #00af00\">64</span>)                  │               <span style=\"color: #00af00; text-decoration-color: #00af00\">0</span> │\n",
              "├──────────────────────────────────────┼─────────────────────────────┼─────────────────┤\n",
              "│ dense_1 (<span style=\"color: #0087ff; text-decoration-color: #0087ff\">Dense</span>)                      │ (<span style=\"color: #00d7ff; text-decoration-color: #00d7ff\">None</span>, <span style=\"color: #00af00; text-decoration-color: #00af00\">1</span>)                   │              <span style=\"color: #00af00; text-decoration-color: #00af00\">65</span> │\n",
              "└──────────────────────────────────────┴─────────────────────────────┴─────────────────┘\n",
              "</pre>\n"
            ]
          },
          "metadata": {}
        },
        {
          "output_type": "display_data",
          "data": {
            "text/plain": [
              "\u001b[1m Total params: \u001b[0m\u001b[38;5;34m54,769,683\u001b[0m (208.93 MB)\n"
            ],
            "text/html": [
              "<pre style=\"white-space:pre;overflow-x:auto;line-height:normal;font-family:Menlo,'DejaVu Sans Mono',consolas,'Courier New',monospace\"><span style=\"font-weight: bold\"> Total params: </span><span style=\"color: #00af00; text-decoration-color: #00af00\">54,769,683</span> (208.93 MB)\n",
              "</pre>\n"
            ]
          },
          "metadata": {}
        },
        {
          "output_type": "display_data",
          "data": {
            "text/plain": [
              "\u001b[1m Trainable params: \u001b[0m\u001b[38;5;34m54,769,681\u001b[0m (208.93 MB)\n"
            ],
            "text/html": [
              "<pre style=\"white-space:pre;overflow-x:auto;line-height:normal;font-family:Menlo,'DejaVu Sans Mono',consolas,'Courier New',monospace\"><span style=\"font-weight: bold\"> Trainable params: </span><span style=\"color: #00af00; text-decoration-color: #00af00\">54,769,681</span> (208.93 MB)\n",
              "</pre>\n"
            ]
          },
          "metadata": {}
        },
        {
          "output_type": "display_data",
          "data": {
            "text/plain": [
              "\u001b[1m Non-trainable params: \u001b[0m\u001b[38;5;34m0\u001b[0m (0.00 B)\n"
            ],
            "text/html": [
              "<pre style=\"white-space:pre;overflow-x:auto;line-height:normal;font-family:Menlo,'DejaVu Sans Mono',consolas,'Courier New',monospace\"><span style=\"font-weight: bold\"> Non-trainable params: </span><span style=\"color: #00af00; text-decoration-color: #00af00\">0</span> (0.00 B)\n",
              "</pre>\n"
            ]
          },
          "metadata": {}
        },
        {
          "output_type": "display_data",
          "data": {
            "text/plain": [
              "\u001b[1m Optimizer params: \u001b[0m\u001b[38;5;34m2\u001b[0m (12.00 B)\n"
            ],
            "text/html": [
              "<pre style=\"white-space:pre;overflow-x:auto;line-height:normal;font-family:Menlo,'DejaVu Sans Mono',consolas,'Courier New',monospace\"><span style=\"font-weight: bold\"> Optimizer params: </span><span style=\"color: #00af00; text-decoration-color: #00af00\">2</span> (12.00 B)\n",
              "</pre>\n"
            ]
          },
          "metadata": {}
        }
      ]
    },
    {
      "cell_type": "code",
      "execution_count": null,
      "id": "PpJljMZjUL9l",
      "metadata": {
        "colab": {
          "base_uri": "https://localhost:8080/"
        },
        "id": "PpJljMZjUL9l",
        "outputId": "15f0d14d-fd90-4ee4-f777-bbcb9ce1cfc4"
      },
      "outputs": [
        {
          "output_type": "stream",
          "name": "stderr",
          "text": [
            "WARNING:absl:Compiled the loaded model, but the compiled metrics have yet to be built. `model.compile_metrics` will be empty until you train or evaluate the model.\n"
          ]
        },
        {
          "output_type": "stream",
          "name": "stdout",
          "text": [
            "Testing on: I love this product, it is amazing!\n",
            "\u001b[1m1/1\u001b[0m \u001b[32m━━━━━━━━━━━━━━━━━━━━\u001b[0m\u001b[37m\u001b[0m \u001b[1m0s\u001b[0m 221ms/step\n",
            "[[1.]]\n",
            "Predicted class: 1\n",
            "Sentiment: Positive [confidence - 100.00%]\n",
            "--------------------------------------------------\n",
            "Testing on: This is the worst service I have ever experienced.\n",
            "\u001b[1m1/1\u001b[0m \u001b[32m━━━━━━━━━━━━━━━━━━━━\u001b[0m\u001b[37m\u001b[0m \u001b[1m0s\u001b[0m 28ms/step\n",
            "[[0.08586126]]\n",
            "Predicted class: 0\n",
            "Sentiment: Negative [confidence - 91.41%]\n",
            "--------------------------------------------------\n",
            "Testing on: It's okay, not bad but not great either.\n",
            "\u001b[1m1/1\u001b[0m \u001b[32m━━━━━━━━━━━━━━━━━━━━\u001b[0m\u001b[37m\u001b[0m \u001b[1m0s\u001b[0m 25ms/step\n",
            "[[0.04076001]]\n",
            "Predicted class: 0\n",
            "Sentiment: Negative [confidence - 95.92%]\n",
            "--------------------------------------------------\n",
            "Testing on: Absolutely wonderful experience!\n",
            "\u001b[1m1/1\u001b[0m \u001b[32m━━━━━━━━━━━━━━━━━━━━\u001b[0m\u001b[37m\u001b[0m \u001b[1m0s\u001b[0m 24ms/step\n",
            "[[1.]]\n",
            "Predicted class: 1\n",
            "Sentiment: Positive [confidence - 100.00%]\n",
            "--------------------------------------------------\n",
            "Testing on: I am so disappointed, it's terrible!\n",
            "\u001b[1m1/1\u001b[0m \u001b[32m━━━━━━━━━━━━━━━━━━━━\u001b[0m\u001b[37m\u001b[0m \u001b[1m0s\u001b[0m 24ms/step\n",
            "[[0.05934874]]\n",
            "Predicted class: 0\n",
            "Sentiment: Negative [confidence - 94.07%]\n",
            "--------------------------------------------------\n"
          ]
        }
      ],
      "source": [
        "import numpy as np\n",
        "from tensorflow.keras.preprocessing.sequence import pad_sequences\n",
        "import pickle\n",
        "\n",
        "# Load the saved model and tokenizer\n",
        "from tensorflow.keras.models import load_model\n",
        "model = load_model('sentiment_model.h5')\n",
        "\n",
        "with open('tokenizer.pickle', 'rb') as handle:\n",
        "    tokenizer = pickle.load(handle)\n",
        "\n",
        "# Function to predict sentiment for a single input\n",
        "def SentimentAnalysis(text):\n",
        "    sentence = [text]\n",
        "    tokenized_sentence = tokenizer.texts_to_sequences(sentence)\n",
        "    input_sequence = pad_sequences(tokenized_sentence, maxlen=50, padding='pre')\n",
        "\n",
        "    prediction_ = model.predict(input_sequence)\n",
        "    print(prediction_)\n",
        "\n",
        "    # Binary classification, threshold of 0.5 to classify as Positive or Negative\n",
        "    prediction = (prediction_ > 0.5).astype(int)[0][0]\n",
        "    print(f\"Predicted class: {prediction}\")\n",
        "\n",
        "    sentiment_classes = ['Negative', 'Positive']\n",
        "\n",
        "    if prediction in range(2):\n",
        "        confidence = prediction_[0][0] if prediction == 1 else 1 - prediction_[0][0]\n",
        "        print(f\"Sentiment: {sentiment_classes[prediction]} [confidence - {confidence * 100:.2f}%]\")\n",
        "\n",
        "    # Plot confidence for binary classification\n",
        "    plot = pd.DataFrame([confidence], columns=['Confidence'])\n",
        "    plot.plot(kind='barh')\n",
        "\n",
        "# Now you can test this function with your data.\n",
        "\n",
        "# Test the model on test data\n",
        "def test_on_data(test_data):\n",
        "    # Assuming 'test_data' is a list of text entries for testing\n",
        "    for text in test_data:\n",
        "        print(f\"Testing on: {text}\")\n",
        "        SentimentAnalysis(text)\n",
        "        print('-' * 50)\n",
        "\n",
        "# User input to get predictions\n",
        "def predict_user_input():\n",
        "    while True:\n",
        "        user_input = input(\"Enter a sentence to analyze sentiment (or type 'exit' to quit): \")\n",
        "        if user_input.lower() == 'exit':\n",
        "            break\n",
        "        SentimentAnalysis(user_input)\n",
        "\n",
        "# Example test cases\n",
        "test_data = [\n",
        "    \"I love this product, it is amazing!\",\n",
        "    \"This is the worst service I have ever experienced.\",\n",
        "    \"It's okay, not bad but not great either.\",\n",
        "    \"Absolutely wonderful experience!\",\n",
        "    \"I am so disappointed, it's terrible!\"\n",
        "]\n",
        "\n",
        "# Test on the sample test data\n",
        "test_on_data(test_data)\n",
        "\n",
        "# Allow user input for custom predictions\n",
        "predict_user_input()\n"
      ]
    },
    {
      "cell_type": "code",
      "source": [],
      "metadata": {
        "id": "bl8VQzcgSfmx"
      },
      "id": "bl8VQzcgSfmx",
      "execution_count": null,
      "outputs": []
    }
  ],
  "metadata": {
    "accelerator": "GPU",
    "colab": {
      "gpuType": "T4",
      "provenance": []
    },
    "kernelspec": {
      "display_name": "Python 3",
      "name": "python3"
    },
    "language_info": {
      "codemirror_mode": {
        "name": "ipython",
        "version": 3
      },
      "file_extension": ".py",
      "mimetype": "text/x-python",
      "name": "python",
      "nbconvert_exporter": "python",
      "pygments_lexer": "ipython3",
      "version": "3.9.13"
    }
  },
  "nbformat": 4,
  "nbformat_minor": 5
}
